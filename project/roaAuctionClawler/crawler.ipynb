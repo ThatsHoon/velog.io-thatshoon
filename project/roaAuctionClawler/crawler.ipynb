{
 "cells": [
  {
   "cell_type": "code",
   "execution_count": 229,
   "metadata": {},
   "outputs": [
    {
     "name": "stderr",
     "output_type": "stream",
     "text": [
      "/tmp/ipykernel_4589/1781593714.py:17: DeprecationWarning: use options instead of chrome_options\n",
      "  driver = webdriver.Chrome(chrome_options=options)\n"
     ]
    }
   ],
   "source": [
    "import os\n",
    "from selenium import webdriver\n",
    "from selenium.webdriver.common.keys import Keys\n",
    "from selenium.webdriver.chrome.options import Options\n",
    "from selenium.common.exceptions import *\n",
    "\n",
    "import time\n",
    "import json\n",
    "import pandas as pd\n",
    "import numpy as np\n",
    "\n",
    "URL = \"https://lostark.game.onstove.com/Market\"\n",
    "\n",
    "options = Options()\n",
    "options.add_argument('--start-fullscreen')\n",
    "\n",
    "driver = webdriver.Chrome(chrome_options=options)\n",
    "driver.implicitly_wait(5)\n",
    "\n",
    "driver.set_window_size(1920, 1080)\n",
    "driver.get(url=URL)\n",
    "\n",
    "goto = driver.find_element_by_xpath('//*[@id=\"user_id\"]')\n",
    "goto.send_keys(\"hunje159@naver.com\")\n",
    "\n",
    "goto = driver.find_element_by_xpath('//*[@id=\"user_pwd\"]')\n",
    "goto.send_keys(\"hj52170236^^\")\n",
    "\n",
    "goto = driver.find_element_by_xpath('//*[@id=\"idLogin\"]/div[3]/button')\n",
    "goto.send_keys(Keys.RETURN)\n",
    "\n",
    "goto = driver.find_element_by_class_name('button--deal-submit')\n",
    "goto.send_keys(Keys.RETURN)\n",
    "driver.execute_script(\"document.body.style.zoom='75%'\")\n",
    "time.sleep(5)\n",
    "driver.find_element_by_xpath('//*[@id=\"itemList\"]/thead/tr/th[1]/a').send_keys(Keys.RETURN)\n",
    "time.sleep(5)\n",
    "\n",
    "data = pd.read_json(\"data.json\")\n",
    "\n",
    "try :\n",
    "    for j in range(510) :\n",
    "        for i in range(1,11) :\n",
    "            아이템명 = driver.find_element_by_xpath('//*[@id=\"tbodyItemList\"]/tr[%d]/td[1]/div/span[2]' % i).text\n",
    "            전일평균거래가 = driver.find_element_by_xpath('//*[@id=\"tbodyItemList\"]/tr[%d]/td[2]/div/em' % i).text\n",
    "            최저가 = driver.find_element_by_xpath('//*[@id=\"tbodyItemList\"]/tr[%d]/td[4]/div/em' % i).text\n",
    "            data.loc[아이템명, 어제날짜] = 전일평균거래가\n",
    "            data.loc[아이템명, \"최저가\"] = 최저가\n",
    "\n",
    "        페이지위치 = int(driver.find_element_by_xpath('//*[@id=\"marketList\"]/div[2]/em').text)%10\n",
    "        if 페이지위치 == 0 : \n",
    "            다음10페이지 = driver.find_element_by_css_selector(\"a.pagination__next\")\n",
    "            다음10페이지.send_keys(Keys.RETURN)\n",
    "        else :\n",
    "            다음페이지 = driver.find_element_by_xpath('//*[@id=\"marketList\"]/div[2]/a[%d]' % (페이지위치+2))\n",
    "            다음페이지.send_keys(Keys.RETURN)\n",
    "        time.sleep(2)\n",
    "except NoSuchElementException: \n",
    "    data.to_json(\"data.json\")\n",
    "data.to_json(\"data.json\")"
   ]
  }
 ],
 "metadata": {
  "kernelspec": {
   "display_name": "Python 3 (ipykernel)",
   "language": "python",
   "name": "python3"
  },
  "language_info": {
   "codemirror_mode": {
    "name": "ipython",
    "version": 3
   },
   "file_extension": ".py",
   "mimetype": "text/x-python",
   "name": "python",
   "nbconvert_exporter": "python",
   "pygments_lexer": "ipython3",
   "version": "3.8.10"
  }
 },
 "nbformat": 4,
 "nbformat_minor": 2
}
